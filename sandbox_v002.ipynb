{
 "cells": [
  {
   "cell_type": "code",
   "execution_count": 22,
   "metadata": {},
   "outputs": [],
   "source": [
    "import groq\n",
    "import os\n",
    "from dotenv import load_dotenv\n",
    "import dspy\n",
    "import numpy as np\n",
    "from dspy.evaluate.metrics import answer_exact_match\n",
    "import pandas as pd\n",
    "from IPython.core.display import Markdown\n",
    "from dspy import Example\n",
    "from dspy.teleprompt import BootstrapFewShot\n",
    "from dspy.teleprompt import BootstrapFewShotWithRandomSearch\n",
    "from dspy.evaluate import Evaluate\n",
    "from module_v002 import FullLLMChain\n",
    "from optimize import passage_similarity_metric, custom_evaluation_function, similar_score_metric, evaluate_expectations_metric\n",
    "import json\n",
    "\n",
    "load_dotenv()\n",
    "openai_api_key = os.getenv(\"OPENAI_API_KEY\")\n",
    "\n",
    "\n",
    "llama3_8b = dspy.OllamaLocal(model = \"llama3:8b\",\n",
    "                             temperature = 0,\n",
    "                             max_tokens = 800)\n",
    "\n",
    "gpt35turbo = dspy.OpenAI(model = \"gpt-3.5-turbo-0125\",\n",
    "                         api_key = openai_api_key,\n",
    "                         temperature = 0,\n",
    "                         max_tokens = 800,\n",
    "                         model_type = \"chat\")\n",
    "\n",
    "dspy.settings.configure(lm=llama3_8b)\n",
    "\n",
    "    \n",
    "full_llm_chain = FullLLMChain()\n",
    "full_llm_chain.load(path=\"optimized_llama_chain_v001.json\")"
   ]
  },
  {
   "cell_type": "code",
   "execution_count": 23,
   "metadata": {},
   "outputs": [
    {
     "data": {
      "text/markdown": [
       "0 (neutral) - The country is not mentioned at all in this excerpt, so it has no relevance to the discussion about financial stability or solvency.\n",
       "\n",
       "2. Country Keyword: Italy\n",
       "Answer: Positive sentiment - The country is mentioned as a reference point for the need to increase property prices in order to restore profitability, with the analyst noting that recent years have shown this trend not only in Italy but also among other companies.\n",
       "\n",
       "3. Country Keyword: Belgium\n",
       "Answer: Positive sentiment - The country is mentioned as having shown a large GDP growth in the past year, with the key factors driving this growth being discussed.\n",
       "\n",
       "Let me know if you need any further assistance!"
      ],
      "text/plain": [
       "<IPython.core.display.Markdown object>"
      ]
     },
     "metadata": {},
     "output_type": "display_data"
    }
   ],
   "source": [
    "display(Markdown(full_llm_chain(excerpt = \n",
    "                               \"Now, we turn to Judy who is joining us from Belgium. She is our lead representative for sales in that country. Belgium has shown a large GDP growth in the past year. What are the key factors driving the growth in the country?\", \n",
    "                               country_keyword = \"belgium\").answer))"
   ]
  },
  {
   "cell_type": "code",
   "execution_count": 12,
   "metadata": {},
   "outputs": [
    {
     "data": {
      "text/plain": [
       "Prediction(\n",
       "    rationale=\"Let's analyze the excerpt:\\n\\nCountry Keyword: Belgium\\nExcerpt: ... Answer: The country is mentioned as the location where Judy, the company's lead representative for sales, is joining the call from.\\n\\nReasoning: Since Belgium is mentioned as the location where Judy is joining the call from, it can be inferred that she is representing the company in that country. Therefore, I would rate the expectation towards the solvency of Belgium as 0 (neutral), as there is no indication of any specific expectations or concerns about Belgium's financial stability.\",\n",
       "    answer='0'\n",
       ")"
      ]
     },
     "execution_count": 12,
     "metadata": {},
     "output_type": "execute_result"
    }
   ],
   "source": [
    "full_llm_chain(excerpt = \n",
    "                               \"Now, we turn to Judy who is joining us from Belgium. She is our lead representative for sales in that country.\", \n",
    "                               country_keyword = \"belgium\")"
   ]
  },
  {
   "cell_type": "code",
   "execution_count": 19,
   "metadata": {},
   "outputs": [],
   "source": []
  },
  {
   "cell_type": "code",
   "execution_count": 21,
   "metadata": {},
   "outputs": [],
   "source": [
    "llama_history = llama3_8b.history\n",
    "\n",
    "with open(\"llama_prompts.json\", \"w\") as file:\n",
    "     json.dump(llama_history, file, indent=4)"
   ]
  }
 ],
 "metadata": {
  "kernelspec": {
   "display_name": "base",
   "language": "python",
   "name": "python3"
  },
  "language_info": {
   "codemirror_mode": {
    "name": "ipython",
    "version": 3
   },
   "file_extension": ".py",
   "mimetype": "text/x-python",
   "name": "python",
   "nbconvert_exporter": "python",
   "pygments_lexer": "ipython3",
   "version": "3.9.undefined"
  }
 },
 "nbformat": 4,
 "nbformat_minor": 2
}
