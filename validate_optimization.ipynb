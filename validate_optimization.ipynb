{
 "cells": [
  {
   "cell_type": "code",
   "execution_count": 1,
   "metadata": {},
   "outputs": [],
   "source": [
    "import groq\n",
    "import os\n",
    "from dotenv import load_dotenv\n",
    "import dspy\n",
    "import numpy as np\n",
    "from dspy.evaluate.metrics import answer_exact_match\n",
    "import pandas as pd\n",
    "from IPython.core.display import Markdown\n",
    "import io\n",
    "import contextlib\n",
    "from dspy import Example\n",
    "from dspy.teleprompt import BootstrapFewShot\n",
    "from dspy.teleprompt import BootstrapFewShotWithRandomSearch\n",
    "from dspy.evaluate import Evaluate\n",
    "from module_v002 import FullLLMChain \n",
    "from optimize import passage_similarity_metric, custom_evaluation_function, similar_score_metric, evaluate_expectations_metric, create_dataframe_with_validation_results, capture_and_save_output\n",
    "import json\n",
    "from data.preprocess import create_dspy_examples_train_test_validation_sets\n",
    "load_dotenv()\n",
    "openai_api_key = os.getenv(\"OPENAI_API_KEY\")\n",
    "\n",
    "\n",
    "llama3_8b = dspy.OllamaLocal(model = \"llama3:8b\",\n",
    "                             temperature = 0,\n",
    "                             max_tokens = 800)\n",
    "\n",
    "gpt35turbo = dspy.OpenAI(model = \"gpt-3.5-turbo-0125\",\n",
    "                         api_key = openai_api_key,\n",
    "                         temperature = 0,\n",
    "                         max_tokens = 800,\n",
    "                         model_type = \"chat\")\n",
    "\n"
   ]
  },
  {
   "cell_type": "markdown",
   "metadata": {},
   "source": [
    "# Import Data and Create Training, Testing, Validation Splits"
   ]
  },
  {
   "cell_type": "code",
   "execution_count": 2,
   "metadata": {},
   "outputs": [],
   "source": [
    "data = pd.read_excel(\"data/300_snippets_transcripts_all_labeled_v002.xlsx\")\n",
    "\n",
    "train_set, test_set, validation_set = create_dspy_examples_train_test_validation_sets(\n",
    "    data=data, \n",
    "    train_size=50, \n",
    "    test_size=50,\n",
    "    validation_size=50\n",
    ")"
   ]
  },
  {
   "cell_type": "markdown",
   "metadata": {},
   "source": [
    "# Run with the Unoptimzed GPT Model"
   ]
  },
  {
   "cell_type": "code",
   "execution_count": 3,
   "metadata": {},
   "outputs": [],
   "source": [
    "dspy.settings.configure(lm=gpt35turbo)\n",
    "full_llm_chain_unoptimized = FullLLMChain()"
   ]
  },
  {
   "cell_type": "code",
   "execution_count": 4,
   "metadata": {},
   "outputs": [
    {
     "name": "stdout",
     "output_type": "stream",
     "text": [
      "Finished validation example 0 out of 50 (0.00%)\n",
      "Finished validation example 1 out of 50 (2.00%)\n",
      "Finished validation example 2 out of 50 (4.00%)\n",
      "Finished validation example 3 out of 50 (6.00%)\n",
      "Finished validation example 4 out of 50 (8.00%)\n",
      "Finished validation example 5 out of 50 (10.00%)\n",
      "Finished validation example 6 out of 50 (12.00%)\n",
      "Finished validation example 7 out of 50 (14.00%)\n",
      "Finished validation example 8 out of 50 (16.00%)\n",
      "Finished validation example 9 out of 50 (18.00%)\n",
      "Finished validation example 10 out of 50 (20.00%)\n",
      "Finished validation example 11 out of 50 (22.00%)\n",
      "Finished validation example 12 out of 50 (24.00%)\n",
      "Finished validation example 13 out of 50 (26.00%)\n",
      "Finished validation example 14 out of 50 (28.00%)\n",
      "Finished validation example 15 out of 50 (30.00%)\n",
      "Finished validation example 16 out of 50 (32.00%)\n",
      "Finished validation example 17 out of 50 (34.00%)\n",
      "Finished validation example 18 out of 50 (36.00%)\n",
      "Finished validation example 19 out of 50 (38.00%)\n",
      "Finished validation example 20 out of 50 (40.00%)\n",
      "Finished validation example 21 out of 50 (42.00%)\n",
      "Finished validation example 22 out of 50 (44.00%)\n",
      "Finished validation example 23 out of 50 (46.00%)\n",
      "Finished validation example 24 out of 50 (48.00%)\n",
      "Finished validation example 25 out of 50 (50.00%)\n",
      "Finished validation example 26 out of 50 (52.00%)\n",
      "Finished validation example 27 out of 50 (54.00%)\n",
      "Finished validation example 28 out of 50 (56.00%)\n",
      "Finished validation example 29 out of 50 (58.00%)\n",
      "Finished validation example 30 out of 50 (60.00%)\n",
      "Finished validation example 31 out of 50 (62.00%)\n",
      "Finished validation example 32 out of 50 (64.00%)\n",
      "Finished validation example 33 out of 50 (66.00%)\n",
      "Finished validation example 34 out of 50 (68.00%)\n",
      "Finished validation example 35 out of 50 (70.00%)\n",
      "Finished validation example 36 out of 50 (72.00%)\n",
      "Finished validation example 37 out of 50 (74.00%)\n",
      "Finished validation example 38 out of 50 (76.00%)\n",
      "Finished validation example 39 out of 50 (78.00%)\n",
      "Finished validation example 40 out of 50 (80.00%)\n",
      "Finished validation example 41 out of 50 (82.00%)\n",
      "Finished validation example 42 out of 50 (84.00%)\n",
      "Finished validation example 43 out of 50 (86.00%)\n",
      "Finished validation example 44 out of 50 (88.00%)\n",
      "Finished validation example 45 out of 50 (90.00%)\n",
      "Finished validation example 46 out of 50 (92.00%)\n",
      "Finished validation example 47 out of 50 (94.00%)\n",
      "Finished validation example 48 out of 50 (96.00%)\n",
      "Finished validation example 49 out of 50 (98.00%)\n"
     ]
    }
   ],
   "source": [
    "results_unoptimized = create_dataframe_with_validation_results(\n",
    "    validation_examples=validation_set,\n",
    "    llm_chain=full_llm_chain_unoptimized\n",
    ")"
   ]
  },
  {
   "cell_type": "code",
   "execution_count": 5,
   "metadata": {},
   "outputs": [],
   "source": [
    "results_unoptimized.to_excel(\"validation/validation_unoptimized_gpt_v009.xlsx\")"
   ]
  },
  {
   "cell_type": "code",
   "execution_count": 6,
   "metadata": {},
   "outputs": [],
   "source": [
    "capture_and_save_output(gpt35turbo.inspect_history, \"validation/prompts_gpt_unoptimized_v009.txt\", n=3)"
   ]
  },
  {
   "cell_type": "code",
   "execution_count": 7,
   "metadata": {},
   "outputs": [],
   "source": [
    "llama3_8b.inspect_history(n=3)"
   ]
  },
  {
   "cell_type": "markdown",
   "metadata": {},
   "source": [
    "# Run with the Optimized GPT Model"
   ]
  },
  {
   "cell_type": "code",
   "execution_count": 30,
   "metadata": {},
   "outputs": [],
   "source": [
    "dspy.settings.configure(lm=gpt35turbo)\n",
    "\n",
    "full_llm_chain_optimized = FullLLMChain()\n",
    "full_llm_chain_optimized.load(path=\"optimized_llm_chains/optimized_gpt_chain_v009.json\")"
   ]
  },
  {
   "cell_type": "code",
   "execution_count": 31,
   "metadata": {},
   "outputs": [
    {
     "name": "stdout",
     "output_type": "stream",
     "text": [
      "Finished validation example 0 out of 50 (0.00%)\n",
      "Finished validation example 1 out of 50 (2.00%)\n",
      "Finished validation example 2 out of 50 (4.00%)\n",
      "Finished validation example 3 out of 50 (6.00%)\n",
      "Finished validation example 4 out of 50 (8.00%)\n",
      "Finished validation example 5 out of 50 (10.00%)\n",
      "Finished validation example 6 out of 50 (12.00%)\n",
      "Finished validation example 7 out of 50 (14.00%)\n",
      "Finished validation example 8 out of 50 (16.00%)\n",
      "Finished validation example 9 out of 50 (18.00%)\n",
      "Finished validation example 10 out of 50 (20.00%)\n",
      "Finished validation example 11 out of 50 (22.00%)\n",
      "Finished validation example 12 out of 50 (24.00%)\n",
      "Finished validation example 13 out of 50 (26.00%)\n",
      "Finished validation example 14 out of 50 (28.00%)\n",
      "Finished validation example 15 out of 50 (30.00%)\n",
      "Finished validation example 16 out of 50 (32.00%)\n",
      "Finished validation example 17 out of 50 (34.00%)\n",
      "Finished validation example 18 out of 50 (36.00%)\n",
      "Finished validation example 19 out of 50 (38.00%)\n",
      "Finished validation example 20 out of 50 (40.00%)\n",
      "Finished validation example 21 out of 50 (42.00%)\n",
      "Finished validation example 22 out of 50 (44.00%)\n",
      "Finished validation example 23 out of 50 (46.00%)\n",
      "Finished validation example 24 out of 50 (48.00%)\n",
      "Finished validation example 25 out of 50 (50.00%)\n",
      "Finished validation example 26 out of 50 (52.00%)\n",
      "Finished validation example 27 out of 50 (54.00%)\n",
      "Finished validation example 28 out of 50 (56.00%)\n",
      "Finished validation example 29 out of 50 (58.00%)\n",
      "Finished validation example 30 out of 50 (60.00%)\n",
      "Finished validation example 31 out of 50 (62.00%)\n",
      "Finished validation example 32 out of 50 (64.00%)\n",
      "Finished validation example 33 out of 50 (66.00%)\n",
      "Finished validation example 34 out of 50 (68.00%)\n",
      "Finished validation example 35 out of 50 (70.00%)\n",
      "Finished validation example 36 out of 50 (72.00%)\n",
      "Finished validation example 37 out of 50 (74.00%)\n",
      "Finished validation example 38 out of 50 (76.00%)\n",
      "Finished validation example 39 out of 50 (78.00%)\n",
      "Finished validation example 40 out of 50 (80.00%)\n",
      "Finished validation example 41 out of 50 (82.00%)\n",
      "Finished validation example 42 out of 50 (84.00%)\n",
      "Finished validation example 43 out of 50 (86.00%)\n",
      "Finished validation example 44 out of 50 (88.00%)\n",
      "Finished validation example 45 out of 50 (90.00%)\n",
      "Finished validation example 46 out of 50 (92.00%)\n",
      "Finished validation example 47 out of 50 (94.00%)\n",
      "Finished validation example 48 out of 50 (96.00%)\n",
      "Finished validation example 49 out of 50 (98.00%)\n"
     ]
    }
   ],
   "source": [
    "results_optimized = create_dataframe_with_validation_results(\n",
    "    validation_examples=validation_set,\n",
    "    llm_chain=full_llm_chain_optimized\n",
    ")"
   ]
  },
  {
   "cell_type": "code",
   "execution_count": 32,
   "metadata": {},
   "outputs": [],
   "source": [
    "results_optimized.to_excel(\"validation/validation_optimized_gpt_v011.xlsx\")"
   ]
  },
  {
   "cell_type": "code",
   "execution_count": 33,
   "metadata": {},
   "outputs": [],
   "source": [
    "capture_and_save_output(gpt35turbo.inspect_history, \"validation/prompts_gpt_optimized_v011.txt\", n=3)"
   ]
  },
  {
   "cell_type": "code",
   "execution_count": 34,
   "metadata": {},
   "outputs": [
    {
     "name": "stdout",
     "output_type": "stream",
     "text": [
      "\n",
      "\n",
      "\n",
      "\n",
      "---CONTEXT---\n",
      "    You are an experienced analyst known for your ability to succinctly summarize complex information and extract key insights from various texts.\n",
      "\n",
      "    ---TASK---\n",
      "    Your task is to summarize the role of the country in the given text excerpt, i.e. why the country is mentioned.\n",
      "\n",
      "    ---GUIDELINES---\n",
      "    - Focus on clearly and concisely capturing the main points related to the country's role.\n",
      "    - Only include information on one country - the one mentioned in the keyword.\n",
      "\n",
      "---\n",
      "\n",
      "Follow the following format.\n",
      "\n",
      "Country Keyword: keyword that represents a country\n",
      "Excerpt: excerpt from a financial services company's earnings conference call\n",
      "Answer: one or two sentences\n",
      "\n",
      "---\n",
      "\n",
      "Country Keyword: spain\n",
      "Excerpt: e specific products, and we are in constant cooperation with the government on this. but in terms of the impact, you were more asking for the impact, i guess. for the gdp, first of all, for the gdp, this next-generation eu, our bbva research team, they do expect a 1 percentage point impact in the gdp growth because of next-generation eu in 2022, and 1.5% percentage point increase in gdp growth in spain due to next-generation eu funds. so overall, economic situation will be helped from this. we have also deep dived into which sectors are going to be receiving this, which types of companies, what is the subsidy level, how much financing, additional financing those clients might be needing and so on. we do expect annually an 8% increase in the what we call new loan production in the commercia\n",
      "Answer: Country Keyword: Spain Excerpt: 1.5% percentage point increase in GDP growth in Spain due to next-generation EU funds. Answer: Spain is mentioned due to the expected impact of next-generation EU funds on the country's GDP growth.\n",
      "\n",
      "---\n",
      "\n",
      "Country Keyword: swedish\n",
      "Excerpt: look at the income line and the different parts, we can see that the swedish operation had a growth by 14%, declined in fih, as i said initially, and in promising growth in hansabank by 11%. net interest income is, of course, influenced by the increased lending volumes in the swedish branch operations. we have increased lending volume also in hansabank and increased in the deposit volumes in the swedish branch operations. good performance in swedbank markets influencing net interest income. we have pressure on our margins and lower deposit margins had a negative influence of sek300m. and in hansabank it is the lending margins that are under pressure. we can see more competition in hansabank operations in the quarter. net commission income. we had a growth by 8%. important to see that paym\n",
      "Answer:\u001b[32m Country Keyword: Swedish\n",
      "Excerpt: Net interest income influenced by increased lending volumes in the Swedish branch operations. Answer: Sweden is mentioned in relation to the growth and performance of the Swedish branch operations impacting net interest income.\u001b[0m\n",
      "\n",
      "\n",
      "\n",
      "\n",
      "\n",
      "\n",
      "\n",
      "---CONTEXT---\n",
      "    You are an experienced financial analyst known for your ability to assess and interpret subtle indicators of financial stability and solvency in various countries.\n",
      "\n",
      "    ---TASK---\n",
      "    Your task is to assess whether or not the given text excerpt potentially reveals any expectation towards the solvency of the country mentioned.\n",
      "\n",
      "    ---GUIDELINES---\n",
      "    - Focus specifically on potential implications regarding the country's financial stability and ability to meet its obligations.\n",
      "    - Financial stability and the country's ability to meet its obligations do not need to be discussed explicitly but can be inferred from the text.\n",
      "    - Answer either 'yes' for relevant or 'no' for irrelevant.\n",
      "\n",
      "---\n",
      "\n",
      "Follow the following format.\n",
      "\n",
      "Country Keyword: keyword that represents a country\n",
      "Country Role: role of the country in the text excerpt of a finacial services company's earnings call transcript\n",
      "Answer: one of: ['yes', 'no']\n",
      "\n",
      "---\n",
      "\n",
      "Country Keyword: spain\n",
      "Country Role: Country Keyword: Spain Excerpt: 1.5% percentage point increase in GDP growth in Spain due to next-generation EU funds. Answer: Spain is mentioned due to the expected impact of next-generation EU funds on the country's GDP growth.\n",
      "Answer: yes\n",
      "\n",
      "---\n",
      "\n",
      "Country Keyword: swedish\n",
      "Country Role: Country Keyword: Swedish Excerpt: Net interest income influenced by increased lending volumes in the Swedish branch operations. Answer: Sweden is mentioned in relation to the growth and performance of the Swedish branch operations impacting net interest income.\n",
      "Answer:\u001b[32m yes\u001b[0m\n",
      "\n",
      "\n",
      "\n",
      "\n",
      "\n",
      "\n",
      "\n",
      "---CONTEXT---\n",
      "    You are an experienced financial analyst known for your expertise in evaluating and interpreting expectations related to the financial stability and solvency of countries.\n",
      "\n",
      "    ---TASK---\n",
      "    Please assess the expectation towards the solvency of the country mentioned in the given text excerpt. This includes evaluating the country's financial stability and ability to meet its obligations.    \n",
      "    \n",
      "    ---GUIDELINES---\n",
      "    - Use the following scale for your assessment: -2 = very negative, -1 = somewhat negative, 0 = neutral, 1 = somewhat positive, 2 = very positive\n",
      "\n",
      "---\n",
      "\n",
      "Follow the following format.\n",
      "\n",
      "Country Keyword: keyword that represents a country\n",
      "\n",
      "Country Role: role of the country in the excerpt of a financial services company's earnings call transcript\n",
      "\n",
      "Excerpt: excerpt from a financial services company's earnings conference call\n",
      "\n",
      "Reasoning: Let's think step by step in order to ${produce the answer}. We ...\n",
      "\n",
      "Answer: one of: [-2, -1, 0, 1, 2]. Only respond wiht a single digit and nothing else. Don't include any prefix (e.g. 'Sentiment: ').\n",
      "\n",
      "---\n",
      "\n",
      "Country Keyword: spain\n",
      "\n",
      "Country Role: Country Keyword: Spain Excerpt: 1.5% percentage point increase in GDP growth in Spain due to next-generation EU funds. Answer: Spain is mentioned due to the expected impact of next-generation EU funds on the country's GDP growth.\n",
      "\n",
      "Excerpt: e specific products, and we are in constant cooperation with the government on this. but in terms of the impact, you were more asking for the impact, i guess. for the gdp, first of all, for the gdp, this next-generation eu, our bbva research team, they do expect a 1 percentage point impact in the gdp growth because of next-generation eu in 2022, and 1.5% percentage point increase in gdp growth in spain due to next-generation eu funds. so overall, economic situation will be helped from this. we have also deep dived into which sectors are going to be receiving this, which types of companies, what is the subsidy level, how much financing, additional financing those clients might be needing and so on. we do expect annually an 8% increase in the what we call new loan production in the commercia\n",
      "\n",
      "Reasoning: Let's think step by step in order to assess the expectation towards the solvency of Spain in this context. The excerpt highlights the positive impact of next-generation EU funds on Spain's GDP growth, with a projected 1.5% percentage point increase. This suggests that Spain is expected to benefit economically from these funds, indicating a positive outlook for the country's financial stability and ability to meet its obligations.\n",
      "\n",
      "Answer: 2\n",
      "\n",
      "---\n",
      "\n",
      "Country Keyword: swedish\n",
      "\n",
      "Country Role: Country Keyword: Swedish Excerpt: Net interest income influenced by increased lending volumes in the Swedish branch operations. Answer: Sweden is mentioned in relation to the growth and performance of the Swedish branch operations impacting net interest income.\n",
      "\n",
      "Excerpt: look at the income line and the different parts, we can see that the swedish operation had a growth by 14%, declined in fih, as i said initially, and in promising growth in hansabank by 11%. net interest income is, of course, influenced by the increased lending volumes in the swedish branch operations. we have increased lending volume also in hansabank and increased in the deposit volumes in the swedish branch operations. good performance in swedbank markets influencing net interest income. we have pressure on our margins and lower deposit margins had a negative influence of sek300m. and in hansabank it is the lending margins that are under pressure. we can see more competition in hansabank operations in the quarter. net commission income. we had a growth by 8%. important to see that paym\n",
      "\n",
      "Reasoning: Let's think step by step in order to\u001b[32m assess the expectation towards the solvency of Sweden in this context. The excerpt indicates that the net interest income is influenced by increased lending volumes in the Swedish branch operations, reflecting growth and performance. This suggests that the Swedish operations are contributing positively to the financial performance of the company, indicating a stable and potentially strong financial position for Sweden.\n",
      "\n",
      "Answer: 1\u001b[0m\n",
      "\n",
      "\n",
      "\n"
     ]
    }
   ],
   "source": [
    "gpt35turbo.inspect_history(n=3)"
   ]
  },
  {
   "cell_type": "markdown",
   "metadata": {},
   "source": [
    "# Look at Metrics"
   ]
  },
  {
   "cell_type": "code",
   "execution_count": 24,
   "metadata": {},
   "outputs": [
    {
     "name": "stdout",
     "output_type": "stream",
     "text": [
      "0.37 15 11\n"
     ]
    }
   ],
   "source": [
    "metric_unoptimized = results_unoptimized[\"Evaluation_Score\"].mean()\n",
    "number_05_scores = len(results_unoptimized[results_unoptimized[\"Evaluation_Score\"] == 0.5])\n",
    "number_1_scores = len(results_unoptimized[results_unoptimized[\"Evaluation_Score\"] == 1.0])\n",
    "print(metric_unoptimized, number_05_scores, number_1_scores)\n"
   ]
  },
  {
   "cell_type": "code",
   "execution_count": 25,
   "metadata": {},
   "outputs": [
    {
     "name": "stdout",
     "output_type": "stream",
     "text": [
      "0.57 3 27 20\n"
     ]
    }
   ],
   "source": [
    "metric_optimized = results_optimized[\"Evaluation_Score\"].mean()\n",
    "number_05_scores = len(results_optimized[results_optimized[\"Evaluation_Score\"] == 0.5])\n",
    "number_1_scores = len(results_optimized[results_optimized[\"Evaluation_Score\"] == 1.0])\n",
    "number_0_scores = len(results_optimized[results_optimized[\"Evaluation_Score\"] == 0.0])\n",
    "print(metric_optimized, number_05_scores, number_1_scores, number_0_scores)"
   ]
  }
 ],
 "metadata": {
  "kernelspec": {
   "display_name": "base",
   "language": "python",
   "name": "python3"
  },
  "language_info": {
   "codemirror_mode": {
    "name": "ipython",
    "version": 3
   },
   "file_extension": ".py",
   "mimetype": "text/x-python",
   "name": "python",
   "nbconvert_exporter": "python",
   "pygments_lexer": "ipython3",
   "version": "3.12.3"
  }
 },
 "nbformat": 4,
 "nbformat_minor": 2
}
